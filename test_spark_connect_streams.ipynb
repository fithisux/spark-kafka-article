{
 "cells": [
  {
   "cell_type": "code",
   "execution_count": 15,
   "id": "e194244d-d71b-483c-b1ac-3992cbe29287",
   "metadata": {},
   "outputs": [],
   "source": [
    "import time\n",
    "from pyspark.sql import SparkSession\n",
    "\n",
    "spark = SparkSession.builder.remote(\"sc://127.0.0.1:15002\").getOrCreate() \n",
    "df = spark.readStream.format(\"rate\").option(\"rowsPerSecond\", \"100\").option(\"numPartitions \", \"5\").load()\n",
    "\n",
    "q = df.writeStream \\\n",
    "    .format(\"json\") \\\n",
    "    .option(\"path\", \"output/path\") \\\n",
    "    .option(\"checkpointLocation\", \"output/checkpoint\") \\\n",
    "    .trigger(processingTime=\"2 seconds\")\\\n",
    "    .start()\n",
    "\n",
    "time.sleep(20) #lets wait 10 secs\n",
    "q.stop()"
   ]
  }
 ],
 "metadata": {
  "kernelspec": {
   "display_name": "streamingproject",
   "language": "python",
   "name": "streamingproject"
  },
  "language_info": {
   "codemirror_mode": {
    "name": "ipython",
    "version": 3
   },
   "file_extension": ".py",
   "mimetype": "text/x-python",
   "name": "python",
   "nbconvert_exporter": "python",
   "pygments_lexer": "ipython3",
   "version": "3.12.11"
  }
 },
 "nbformat": 4,
 "nbformat_minor": 5
}

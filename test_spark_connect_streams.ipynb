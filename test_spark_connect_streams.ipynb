{
 "cells": [
  {
   "cell_type": "code",
   "execution_count": 11,
   "id": "e194244d-d71b-483c-b1ac-3992cbe29287",
   "metadata": {},
   "outputs": [],
   "source": [
    "import time\n",
    "from pyspark.sql import SparkSession\n",
    "\n",
    "spark = SparkSession.builder.remote(\"sc://127.0.0.1:15002\").getOrCreate() \n",
    "df = spark.readStream.format(\"rate\").load()\n",
    "df = df.selectExpr(\"value % 3 as v\")\n",
    "# q = df.writeStream.format(\"console\").start()\n",
    "\n",
    "df.writeStream \\\n",
    "    .format(\"parquet\") \\\n",
    "    .option(\"path\", \"output/path\") \\\n",
    "    .option(\"checkpointLocation\", \"output/checkpoint\") \\\n",
    "    .start()\n",
    "\n",
    "time.sleep(3)\n",
    "q.stop()"
   ]
  }
 ],
 "metadata": {
  "kernelspec": {
   "display_name": "projectname",
   "language": "python",
   "name": "projectname"
  },
  "language_info": {
   "name": "python"
  }
 },
 "nbformat": 4,
 "nbformat_minor": 5
}

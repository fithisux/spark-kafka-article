{
 "cells": [
  {
   "cell_type": "code",
   "execution_count": null,
   "id": "36aff97a-1999-4d5a-83d1-182bf0322215",
   "metadata": {},
   "outputs": [
    {
     "name": "stdout",
     "output_type": "stream",
     "text": [
      "+---+-----+-----+---------+------+---------+-------------+-------+\n",
      "|key|value|topic|partition|offset|timestamp|timestampType|headers|\n",
      "+---+-----+-----+---------+------+---------+-------------+-------+\n",
      "+---+-----+-----+---------+------+---------+-------------+-------+\n",
      "\n"
     ]
    }
   ],
   "source": [
    "from pyspark.sql import SparkSession\n",
    "\n",
    "spark = SparkSession.builder.remote(\"sc://127.0.0.1:15002\").getOrCreate() \n",
    "\n",
    "\n",
    "BOOTSTRAP_SERVERS = \"kafka:29092\"\n",
    "EXAMPLE_TOPIC = \"myeexampletopic\"\n",
    "\n",
    "options = {\n",
    "    \"kafka.bootstrap.servers\": BOOTSTRAP_SERVERS,\n",
    "    \"subscribe\": EXAMPLE_TOPIC,\n",
    "    \"startingOffsets\": \"earliest\",\n",
    "    \"includeHeaders\": \"true\"\n",
    "}\n",
    "\n",
    "some_df = spark.read.format(\"kafka\").options(**options).load()\n",
    "some_df.show(10)\n",
    "\n",
    "# print(spark.conf.get(\"spark.jars.packages\"))"
   ]
  }
 ],
 "metadata": {
  "kernelspec": {
   "display_name": "streamingproject",
   "language": "python",
   "name": "streamingproject"
  },
  "language_info": {
   "name": "python"
  }
 },
 "nbformat": 4,
 "nbformat_minor": 5
}

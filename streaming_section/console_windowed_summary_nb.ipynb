{
 "cells": [
  {
   "cell_type": "markdown",
   "id": "e2563081-c3a6-4992-b783-9163bb9f83b0",
   "metadata": {},
   "source": [
    "# Spark Structured Streaming Example\n",
    "\n",
    "Purpose: Reads a stream of messages from a Kafka topic and writes a stream of aggregations over sliding event-time window to memory.\n",
    "\n",
    "References: https://spark.apache.org/docs/latest/structured-streaming-programming-guide.html\n",
    "\n",
    "Author:  Gary A. Stafford\n",
    "\n",
    "Date: 2022-12-16"
   ]
  },
  {
   "cell_type": "code",
   "execution_count": 1,
   "id": "f5b6543e-fc4c-4faf-9434-ee25cfcebd82",
   "metadata": {},
   "outputs": [],
   "source": [
    "import pyspark.sql.functions as F\n",
    "from pyspark.sql import SparkSession\n",
    "from pyspark.sql.types import (\n",
    "    StructField,\n",
    "    StructType,\n",
    "    IntegerType,\n",
    "    StringType,\n",
    "    FloatType,\n",
    "    TimestampType,\n",
    "    BooleanType,\n",
    ")"
   ]
  },
  {
   "cell_type": "code",
   "execution_count": 2,
   "id": "f0ecf312-4356-41ec-b816-c9f4702e7a90",
   "metadata": {},
   "outputs": [],
   "source": [
    "WINDOW_WATERMARK = \"10 seconds\"\n",
    "WINDOW_DURATION = \"20 seconds\"\n",
    "WINDOW_SLIDE = \"10 seconds\"\n",
    "PROCESSING_TIME = \"20 seconds\"\n",
    "SHOW_REFRESH = 20\n",
    "\n",
    "BOOTSTRAP_SERVERS = \"kafka:29092\"\n",
    "TOPIC_PURCHASES = \"demo.purchases\"\n",
    "\n",
    "KAFKA_OPTIONS = {\n",
    "    \"kafka.bootstrap.servers\": BOOTSTRAP_SERVERS,\n",
    "    \"subscribe\": TOPIC_PURCHASES,\n",
    "    \"startingOffsets\": \"latest\",\n",
    "}"
   ]
  },
  {
   "cell_type": "code",
   "execution_count": 30,
   "id": "f439c1a4-600a-41a3-aca4-cf125990c658",
   "metadata": {},
   "outputs": [],
   "source": [
    "spark = SparkSession.builder.remote(\"sc://127.0.0.1:15002\").appName(\"kafka-streaming-query\").getOrCreate()\n",
    "df_sales = spark.readStream.format(\"kafka\").options(**KAFKA_OPTIONS).load()\n",
    "\n",
    "schema = StructType(\n",
    "    [\n",
    "        StructField(\"transaction_time\", TimestampType(), False),\n",
    "        StructField(\"transaction_id\", StringType(), False),\n",
    "        StructField(\"product_id\", StringType(), False),\n",
    "        StructField(\"price\", FloatType(), False),\n",
    "        StructField(\"quantity\", IntegerType(), False),\n",
    "        StructField(\"is_member\", BooleanType(), True),\n",
    "        StructField(\"member_discount\", FloatType(), True),\n",
    "        StructField(\"add_supplements\", BooleanType(), True),\n",
    "        StructField(\"supplement_price\", FloatType(), True),\n",
    "    ]\n",
    ")\n",
    "\n",
    "ds_sales = (\n",
    "    df_sales.selectExpr(\"CAST(value AS STRING)\")\n",
    "    .select(F.from_json(\"value\", schema=schema).alias(\"data\"))\n",
    "    .select(\"data.*\")\n",
    "        .withColumn(\"sales\", F.col(\"price\")*F.col(\"quantity\"))\n",
    "    #.withWatermark(\"transaction_time\", WINDOW_WATERMARK)\n",
    "    .groupBy(\"product_id\", F.window(\"transaction_time\", WINDOW_DURATION, WINDOW_SLIDE))\n",
    "    .agg(F.sum(\"sales\"), F.sum(\"quantity\"))\n",
    "    .select(\n",
    "        \"product_id\",\n",
    "        F.format_number(\"sum(sales)\", 2).alias(\"total_sales\"),\n",
    "        F.format_number(\"sum(quantity)\", 0).alias(\"total_items\"),\n",
    "        \"window.start\",\n",
    "        \"window.end\",\n",
    "    )\n",
    "    #.orderBy(F.col(\"window\").desc(), F.col(\"product_id\").desc())\n",
    "    .coalesce(1)\n",
    "    .writeStream.queryName(\"streaming_to_console\")\n",
    "    .trigger(processingTime=PROCESSING_TIME)\n",
    "    .outputMode(\"update\")\n",
    "    .format(\"memory\")\n",
    "    .start()\n",
    ")"
   ]
  },
  {
   "cell_type": "code",
   "execution_count": 31,
   "id": "6bad56b3-2f27-4c6e-a8fb-ba8399e04c45",
   "metadata": {},
   "outputs": [
    {
     "data": {
      "text/plain": [
       "{'message': 'Processing new data',\n",
       " 'isDataAvailable': True,\n",
       " 'isTriggerActive': True}"
      ]
     },
     "metadata": {},
     "output_type": "display_data"
    },
    {
     "name": "stdout",
     "output_type": "stream",
     "text": [
      "+----------+-----------+-----------+-------------------+-------------------+\n",
      "|product_id|total_sales|total_items|start              |end                |\n",
      "+----------+-----------+-----------+-------------------+-------------------+\n",
      "|CS05      |9.98       |2          |2025-10-02 10:39:00|2025-10-02 10:39:20|\n",
      "|CS05      |9.98       |2          |2025-10-02 10:38:50|2025-10-02 10:39:10|\n",
      "|CS05      |14.97      |3          |2025-10-02 10:39:00|2025-10-02 10:39:20|\n",
      "|SF01      |11.98      |2          |2025-10-02 10:39:00|2025-10-02 10:39:20|\n",
      "|CS09      |4.99       |1          |2025-10-02 10:39:10|2025-10-02 10:39:30|\n",
      "|CS11      |4.99       |1          |2025-10-02 10:39:10|2025-10-02 10:39:30|\n",
      "|CS11      |4.99       |1          |2025-10-02 10:39:00|2025-10-02 10:39:20|\n",
      "|SC04      |5.99       |1          |2025-10-02 10:39:00|2025-10-02 10:39:20|\n",
      "|SF04      |11.98      |2          |2025-10-02 10:39:00|2025-10-02 10:39:20|\n",
      "|SF02      |5.99       |1          |2025-10-02 10:39:00|2025-10-02 10:39:20|\n",
      "|SC04      |5.99       |1          |2025-10-02 10:39:10|2025-10-02 10:39:30|\n",
      "|CS09      |4.99       |1          |2025-10-02 10:39:00|2025-10-02 10:39:20|\n",
      "|CS05      |14.97      |3          |2025-10-02 10:38:50|2025-10-02 10:39:10|\n",
      "|SF02      |5.99       |1          |2025-10-02 10:39:10|2025-10-02 10:39:30|\n",
      "|SF01      |11.98      |2          |2025-10-02 10:39:10|2025-10-02 10:39:30|\n",
      "|IS02      |5.49       |1          |2025-10-02 10:39:00|2025-10-02 10:39:20|\n",
      "|SF04      |11.98      |2          |2025-10-02 10:38:50|2025-10-02 10:39:10|\n",
      "|IS02      |5.49       |1          |2025-10-02 10:39:10|2025-10-02 10:39:30|\n",
      "|SF04      |5.99       |1          |2025-10-02 10:39:20|2025-10-02 10:39:40|\n",
      "|CS05      |4.99       |1          |2025-10-02 10:39:30|2025-10-02 10:39:50|\n",
      "+----------+-----------+-----------+-------------------+-------------------+\n",
      "only showing top 20 rows\n"
     ]
    },
    {
     "data": {
      "text/plain": [
       "None"
      ]
     },
     "metadata": {},
     "output_type": "display_data"
    },
    {
     "ename": "KeyboardInterrupt",
     "evalue": "",
     "output_type": "error",
     "traceback": [
      "\u001b[31m---------------------------------------------------------------------------\u001b[39m",
      "\u001b[31mKeyboardInterrupt\u001b[39m                         Traceback (most recent call last)",
      "\u001b[36mCell\u001b[39m\u001b[36m \u001b[39m\u001b[32mIn[31]\u001b[39m\u001b[32m, line 10\u001b[39m\n\u001b[32m      8\u001b[39m display(ds_sales.status)\n\u001b[32m      9\u001b[39m display(spark.sql(\u001b[33m\"\u001b[39m\u001b[33mSELECT * FROM streaming_to_console\u001b[39m\u001b[33m\"\u001b[39m).show(truncate=\u001b[38;5;28;01mFalse\u001b[39;00m))\n\u001b[32m---> \u001b[39m\u001b[32m10\u001b[39m \u001b[43msleep\u001b[49m\u001b[43m(\u001b[49m\u001b[43mSHOW_REFRESH\u001b[49m\u001b[43m)\u001b[49m  \u001b[38;5;66;03m# refresh every SHOW_REFRESH seconds\u001b[39;00m\n",
      "\u001b[31mKeyboardInterrupt\u001b[39m: "
     ]
    }
   ],
   "source": [
    "# data display auto-refresh reference: https://stackoverflow.com/a/61922073/580268\n",
    "\n",
    "from IPython.display import display, clear_output\n",
    "from time import sleep\n",
    "\n",
    "while True:\n",
    "    clear_output(wait=True)\n",
    "    display(ds_sales.status)\n",
    "    display(spark.sql(\"SELECT * FROM streaming_to_console\").show(truncate=False))\n",
    "    sleep(SHOW_REFRESH)  # refresh every SHOW_REFRESH seconds"
   ]
  },
  {
   "cell_type": "code",
   "execution_count": 32,
   "id": "86d3f6ae-0f76-4e7c-8b97-31fd88b90032",
   "metadata": {},
   "outputs": [],
   "source": [
    "ds_sales.stop()"
   ]
  }
 ],
 "metadata": {
  "kernelspec": {
   "display_name": "salesproject",
   "language": "python",
   "name": "salesproject"
  },
  "language_info": {
   "codemirror_mode": {
    "name": "ipython",
    "version": 3
   },
   "file_extension": ".py",
   "mimetype": "text/x-python",
   "name": "python",
   "nbconvert_exporter": "python",
   "pygments_lexer": "ipython3",
   "version": "3.12.11"
  }
 },
 "nbformat": 4,
 "nbformat_minor": 5
}

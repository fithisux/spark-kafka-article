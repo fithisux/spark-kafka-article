{
 "cells": [
  {
   "cell_type": "markdown",
   "id": "e2563081-c3a6-4992-b783-9163bb9f83b0",
   "metadata": {},
   "source": [
    "# Spark Structured Streaming Example\n",
    "\n",
    "Purpose: Reads a stream of messages from a Kafka topic and writes the running totals to json file.\n",
    "\n",
    "References: https://spark.apache.org/docs/latest/structured-streaming-programming-guide.html\n",
    "\n",
    "Author:  Gary A. Stafford\n",
    "\n",
    "Date: 2022-12-16\n",
    "\n",
    "Updated by Vasilios Anagnostopoulos 30/09/2025"
   ]
  },
  {
   "cell_type": "code",
   "execution_count": 33,
   "id": "f5b6543e-fc4c-4faf-9434-ee25cfcebd82",
   "metadata": {},
   "outputs": [],
   "source": [
    "import pyspark.sql.functions as F\n",
    "from pyspark.sql import SparkSession\n",
    "from pyspark.sql.types import (\n",
    "    StructField,\n",
    "    StructType,\n",
    "    IntegerType,\n",
    "    StringType,\n",
    "    FloatType,\n",
    "    TimestampType,\n",
    "    BooleanType,\n",
    ")"
   ]
  },
  {
   "cell_type": "code",
   "execution_count": 34,
   "id": "322a21d0-4fb0-492e-b72d-327025bece2b",
   "metadata": {},
   "outputs": [],
   "source": [
    "WINDOW_WATERMARK = \"10 seconds\"\n",
    "WINDOW_DURATION = \"20 seconds\"\n",
    "WINDOW_SLIDE = \"10 seconds\"\n",
    "PROCESSING_TIME = \"20 seconds\"\n",
    "SHOW_REFRESH = 20\n",
    "\n",
    "BOOTSTRAP_SERVERS = \"kafka:29092\"\n",
    "TOPIC_PURCHASES = \"demo.purchases\"\n",
    "\n",
    "KAFKA_OPTIONS = {\n",
    "    \"kafka.bootstrap.servers\": BOOTSTRAP_SERVERS,\n",
    "    \"subscribe\": TOPIC_PURCHASES,\n",
    "    \"startingOffsets\": \"earliest\",\n",
    "}"
   ]
  },
  {
   "cell_type": "code",
   "execution_count": 35,
   "id": "f0ecf312-4356-41ec-b816-c9f4702e7a90",
   "metadata": {},
   "outputs": [],
   "source": [
    "spark = SparkSession.builder.remote(\"sc://127.0.0.1:15002\").appName(\"kafka-streaming-query\").getOrCreate()\n",
    "df_sales = spark.readStream.format(\"kafka\").options(**KAFKA_OPTIONS).load()"
   ]
  },
  {
   "cell_type": "code",
   "execution_count": 36,
   "id": "f439c1a4-600a-41a3-aca4-cf125990c658",
   "metadata": {},
   "outputs": [],
   "source": [
    "schema = StructType(\n",
    "    [\n",
    "        StructField(\"transaction_time\", TimestampType(), False),\n",
    "        StructField(\"transaction_id\", StringType(), False),\n",
    "        StructField(\"product_id\", StringType(), False),\n",
    "        StructField(\"price\", FloatType(), False),\n",
    "        StructField(\"quantity\", IntegerType(), False),\n",
    "        StructField(\"is_member\", BooleanType(), True),\n",
    "        StructField(\"member_discount\", FloatType(), True),\n",
    "        StructField(\"add_supplements\", BooleanType(), True),\n",
    "        StructField(\"supplement_price\", FloatType(), True),\n",
    "    ]\n",
    ")\n",
    "\n",
    "ds_sales = (\n",
    "    df_sales.selectExpr(\"CAST(value AS STRING)\")\n",
    "    .select(F.from_json(\"value\", schema=schema).alias(\"data\"))\n",
    "    .select(\"data.*\")\n",
    "    .withColumn(\"sales\", F.col(\"price\")*F.col(\"quantity\"))\n",
    "    .where(F.col('product_id') == 'SC04')\n",
    "    .groupBy(\"product_id\")\n",
    "    .agg(F.sum(\"sales\"), F.sum(\"quantity\"), F.max(\"transaction_time\"))\n",
    "    #.orderBy(F.col(\"product_id\").desc())\n",
    "    .select(\n",
    "        \"product_id\",\n",
    "        F.col('max(transaction_time)'),\n",
    "        F.format_number(\"sum(sales)\", 2).alias(\"total_sales\"),\n",
    "        F.format_number(\"sum(quantity)\", 0).alias(\"total_items\"),\n",
    "        F.format_number(F.col(\"sum(sales)\")/F.col(\"sum(quantity)\"), 2).alias(\"mean_price\"),\n",
    "    )\n",
    "    .coalesce(1)\n",
    "    .writeStream.queryName(\"streaming_to_console\")\n",
    "    .trigger(processingTime=PROCESSING_TIME)\n",
    "    #.outputMode(\"complete\")\n",
    "    .outputMode(\"update\")\n",
    "    .format(\"memory\")\n",
    "    .start()\n",
    ")"
   ]
  },
  {
   "cell_type": "code",
   "execution_count": 37,
   "id": "6bad56b3-2f27-4c6e-a8fb-ba8399e04c45",
   "metadata": {},
   "outputs": [
    {
     "data": {
      "text/plain": [
       "{'message': 'Processing new data',\n",
       " 'isDataAvailable': True,\n",
       " 'isTriggerActive': True}"
      ]
     },
     "metadata": {},
     "output_type": "display_data"
    },
    {
     "name": "stdout",
     "output_type": "stream",
     "text": [
      "+----------+---------------------+-----------+-----------+----------+\n",
      "|product_id|max(transaction_time)|total_sales|total_items|mean_price|\n",
      "+----------+---------------------+-----------+-----------+----------+\n",
      "|      SC04| 2025-10-03 16:57:...|      17.97|          3|      5.99|\n",
      "|      SC04| 2025-10-03 16:59:...|      23.96|          4|      5.99|\n",
      "|      SC04| 2025-10-03 17:00:...|      35.94|          6|      5.99|\n",
      "|      SC04| 2025-10-03 17:02:...|      47.92|          8|      5.99|\n",
      "+----------+---------------------+-----------+-----------+----------+\n",
      "\n"
     ]
    },
    {
     "data": {
      "text/plain": [
       "None"
      ]
     },
     "metadata": {},
     "output_type": "display_data"
    },
    {
     "ename": "KeyboardInterrupt",
     "evalue": "",
     "output_type": "error",
     "traceback": [
      "\u001b[31m---------------------------------------------------------------------------\u001b[39m",
      "\u001b[31mKeyboardInterrupt\u001b[39m                         Traceback (most recent call last)",
      "\u001b[36mCell\u001b[39m\u001b[36m \u001b[39m\u001b[32mIn[37]\u001b[39m\u001b[32m, line 10\u001b[39m\n\u001b[32m      8\u001b[39m display(ds_sales.status)\n\u001b[32m      9\u001b[39m display(spark.sql(\u001b[33m\"\u001b[39m\u001b[33mSELECT * FROM streaming_to_console\u001b[39m\u001b[33m\"\u001b[39m).show())\n\u001b[32m---> \u001b[39m\u001b[32m10\u001b[39m \u001b[43msleep\u001b[49m\u001b[43m(\u001b[49m\u001b[43mSHOW_REFRESH\u001b[49m\u001b[43m)\u001b[49m  \u001b[38;5;66;03m# refresh every SHOW_REFRESH seconds\u001b[39;00m\n",
      "\u001b[31mKeyboardInterrupt\u001b[39m: "
     ]
    }
   ],
   "source": [
    "# data display auto-refresh reference: https://stackoverflow.com/a/61922073/580268\n",
    "\n",
    "from IPython.display import display, clear_output\n",
    "from time import sleep\n",
    "\n",
    "while True:\n",
    "    clear_output(wait=True)\n",
    "    display(ds_sales.status)\n",
    "    display(spark.sql(\"SELECT * FROM streaming_to_console\").show())\n",
    "    sleep(SHOW_REFRESH)  # refresh every SHOW_REFRESH seconds"
   ]
  },
  {
   "cell_type": "code",
   "execution_count": 38,
   "id": "86d3f6ae-0f76-4e7c-8b97-31fd88b90032",
   "metadata": {},
   "outputs": [],
   "source": [
    "ds_sales.stop()"
   ]
  }
 ],
 "metadata": {
  "kernelspec": {
   "display_name": "streamingproject",
   "language": "python",
   "name": "streamingproject"
  },
  "language_info": {
   "codemirror_mode": {
    "name": "ipython",
    "version": 3
   },
   "file_extension": ".py",
   "mimetype": "text/x-python",
   "name": "python",
   "nbconvert_exporter": "python",
   "pygments_lexer": "ipython3",
   "version": "3.12.11"
  }
 },
 "nbformat": 4,
 "nbformat_minor": 5
}
